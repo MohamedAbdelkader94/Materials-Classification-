{
 "cells": [
  {
   "cell_type": "code",
   "execution_count": 1,
   "metadata": {},
   "outputs": [],
   "source": [
    "import cv2\n",
    "import matplotlib\n",
    "matplotlib.rcParams['figure.figsize']=16,8\n",
    "import matplotlib.pyplot as plt\n",
    "import numpy as np\n",
    "from scipy import ndimage, signal\n",
    "import skimage \n",
    "import operator \n",
    "import os\n",
    "import random\n",
    "\n",
    "import glob\n",
    "\n",
    "from PIL import Image\n",
    "import pandas as pd\n",
    "\n",
    "from skimage import measure\n",
    "from sklearn import datasets, metrics, neighbors, svm"
   ]
  },
  {
   "cell_type": "code",
   "execution_count": 2,
   "metadata": {},
   "outputs": [],
   "source": [
    "def imshow(img,ax=None,**kwargs):\n",
    "    if ax is None:\n",
    "        ax=plt.gca()\n",
    "    if len(img.shape)==2:\n",
    "        #if grayscale, make the image RGB in order for matplotlib to ignore vmin and vmax arguments\n",
    "        img=np.repeat(img[...,None],3,2)\n",
    "    return ax.imshow(img,**kwargs) "
   ]
  },
  {
   "cell_type": "code",
   "execution_count": 3,
   "metadata": {},
   "outputs": [
    {
     "name": "stderr",
     "output_type": "stream",
     "text": [
      "Using TensorFlow backend.\n"
     ]
    },
    {
     "data": {
      "text/plain": [
       "Ellipsis"
      ]
     },
     "execution_count": 3,
     "metadata": {},
     "output_type": "execute_result"
    }
   ],
   "source": [
    "# first neural network with keras tutorial\n",
    "from numpy import loadtxt\n",
    "from keras.models import Sequential\n",
    "from keras.layers import Dense\n",
    "from keras.optimizers import SGD\n",
    "..."
   ]
  },
  {
   "cell_type": "code",
   "execution_count": 102,
   "metadata": {},
   "outputs": [
    {
     "data": {
      "text/plain": [
       "Ellipsis"
      ]
     },
     "execution_count": 102,
     "metadata": {},
     "output_type": "execute_result"
    }
   ],
   "source": [
    "...\n",
    "# load the dataset\n",
    "#dataset = loadtxt('Desktop/Dataset_ANSYS_Results_2.csv', delimiter=',')\n",
    "dataset = pd.read_csv('New_Ortho_data.csv')               #can also read the data using pandas library \n",
    "# split into input (X) and output (y) variables\n",
    "dataset = np.matrix(dataset)\n",
    "y_train = dataset[0:160,3].astype(float)\n",
    "X_train = dataset[0:160,0:3]\n",
    "#X_train = dataset[0:160,0:2]   #Uncomment if not to consider the m*b term \n",
    "\n",
    "..."
   ]
  },
  {
   "cell_type": "code",
   "execution_count": 103,
   "metadata": {},
   "outputs": [
    {
     "data": {
      "text/plain": [
       "matrix([[1.00000e+00, 8.24190e+01, 2.79739e+05],\n",
       "        [2.00000e+00, 3.12840e+02, 2.79739e+05],\n",
       "        [3.00000e+00, 5.11090e+02, 2.79739e+05],\n",
       "        [4.00000e+00, 1.02140e+03, 2.79739e+05],\n",
       "        [5.00000e+00, 1.40780e+03, 2.79739e+05],\n",
       "        [6.00000e+00, 1.70570e+03, 2.79739e+05],\n",
       "        [7.00000e+00, 1.97400e+03, 2.79739e+05],\n",
       "        [8.00000e+00, 2.13280e+03, 2.79739e+05],\n",
       "        [9.00000e+00, 2.67700e+03, 2.79739e+05],\n",
       "        [1.00000e+01, 2.70070e+03, 2.79739e+05],\n",
       "        [1.10000e+01, 3.25620e+03, 2.79739e+05],\n",
       "        [1.20000e+01, 3.63760e+03, 2.79739e+05],\n",
       "        [1.30000e+01, 4.33330e+03, 2.79739e+05],\n",
       "        [1.40000e+01, 4.86770e+03, 2.79739e+05],\n",
       "        [1.50000e+01, 4.91490e+03, 2.79739e+05],\n",
       "        [1.60000e+01, 5.45970e+03, 2.79739e+05],\n",
       "        [1.70000e+01, 5.87350e+03, 2.79739e+05],\n",
       "        [1.80000e+01, 6.23450e+03, 2.79739e+05],\n",
       "        [1.90000e+01, 6.26560e+03, 2.79739e+05],\n",
       "        [2.00000e+01, 6.38600e+03, 2.79739e+05],\n",
       "        [2.10000e+01, 6.48100e+03, 2.79739e+05],\n",
       "        [2.20000e+01, 6.66490e+03, 2.79739e+05],\n",
       "        [2.30000e+01, 6.77730e+03, 2.79739e+05],\n",
       "        [2.40000e+01, 7.80670e+03, 2.79739e+05],\n",
       "        [2.50000e+01, 8.31190e+03, 2.79739e+05],\n",
       "        [2.60000e+01, 8.44240e+03, 2.79739e+05],\n",
       "        [2.70000e+01, 8.91950e+03, 2.79739e+05],\n",
       "        [2.80000e+01, 9.24060e+03, 2.79739e+05],\n",
       "        [2.90000e+01, 9.96590e+03, 2.79739e+05],\n",
       "        [3.00000e+01, 1.02850e+04, 2.79739e+05],\n",
       "        [3.10000e+01, 1.03820e+04, 2.79739e+05],\n",
       "        [3.20000e+01, 1.08160e+04, 2.79739e+05],\n",
       "        [3.30000e+01, 1.09320e+04, 2.79739e+05],\n",
       "        [3.40000e+01, 1.09340e+04, 2.79739e+05],\n",
       "        [3.50000e+01, 1.12660e+04, 2.79739e+05],\n",
       "        [3.60000e+01, 1.18810e+04, 2.79739e+05],\n",
       "        [3.70000e+01, 1.26380e+04, 2.79739e+05],\n",
       "        [3.80000e+01, 1.28570e+04, 2.79739e+05],\n",
       "        [3.90000e+01, 1.29010e+04, 2.79739e+05],\n",
       "        [4.00000e+01, 1.31180e+04, 2.79739e+05],\n",
       "        [4.10000e+01, 1.33480e+04, 2.79739e+05],\n",
       "        [4.20000e+01, 1.37700e+04, 2.79739e+05],\n",
       "        [4.30000e+01, 1.46050e+04, 2.79739e+05],\n",
       "        [4.40000e+01, 1.49760e+04, 2.79739e+05],\n",
       "        [4.50000e+01, 1.50670e+04, 2.79739e+05],\n",
       "        [4.60000e+01, 1.52220e+04, 2.79739e+05],\n",
       "        [4.70000e+01, 1.54860e+04, 2.79739e+05],\n",
       "        [4.80000e+01, 1.60010e+04, 2.79739e+05],\n",
       "        [4.90000e+01, 1.60160e+04, 2.79739e+05],\n",
       "        [5.00000e+01, 1.61990e+04, 2.79739e+05],\n",
       "        [5.10000e+01, 1.63300e+04, 2.79739e+05],\n",
       "        [5.20000e+01, 1.63990e+04, 2.79739e+05],\n",
       "        [5.30000e+01, 1.68040e+04, 2.79739e+05],\n",
       "        [5.40000e+01, 1.72650e+04, 2.79739e+05],\n",
       "        [5.50000e+01, 1.76180e+04, 2.79739e+05],\n",
       "        [5.60000e+01, 1.78500e+04, 2.79739e+05],\n",
       "        [5.70000e+01, 1.82540e+04, 2.79739e+05],\n",
       "        [5.80000e+01, 1.87490e+04, 2.79739e+05],\n",
       "        [5.90000e+01, 1.91170e+04, 2.79739e+05],\n",
       "        [6.00000e+01, 1.91430e+04, 2.79739e+05],\n",
       "        [6.10000e+01, 1.91460e+04, 2.79739e+05],\n",
       "        [6.20000e+01, 1.96850e+04, 2.79739e+05],\n",
       "        [6.30000e+01, 2.02720e+04, 2.79739e+05],\n",
       "        [6.40000e+01, 2.03510e+04, 2.79739e+05],\n",
       "        [6.50000e+01, 2.06420e+04, 2.79739e+05],\n",
       "        [6.60000e+01, 2.09200e+04, 2.79739e+05],\n",
       "        [6.70000e+01, 2.11430e+04, 2.79739e+05],\n",
       "        [6.80000e+01, 2.12290e+04, 2.79739e+05],\n",
       "        [6.90000e+01, 2.15680e+04, 2.79739e+05],\n",
       "        [7.00000e+01, 2.15890e+04, 2.79739e+05],\n",
       "        [7.10000e+01, 2.19110e+04, 2.79739e+05],\n",
       "        [7.20000e+01, 2.19250e+04, 2.79739e+05],\n",
       "        [7.30000e+01, 2.22090e+04, 2.79739e+05],\n",
       "        [7.40000e+01, 2.22580e+04, 2.79739e+05],\n",
       "        [7.50000e+01, 2.23550e+04, 2.79739e+05],\n",
       "        [7.60000e+01, 2.25920e+04, 2.79739e+05],\n",
       "        [7.70000e+01, 2.30060e+04, 2.79739e+05],\n",
       "        [7.80000e+01, 2.31510e+04, 2.79739e+05],\n",
       "        [7.90000e+01, 2.39080e+04, 2.79739e+05],\n",
       "        [8.00000e+01, 2.42230e+04, 2.79739e+05],\n",
       "        [1.00000e+00, 6.16650e+01, 4.30940e+04],\n",
       "        [2.00000e+00, 1.61350e+02, 4.30940e+04],\n",
       "        [3.00000e+00, 3.83840e+02, 4.30940e+04],\n",
       "        [4.00000e+00, 5.75050e+02, 4.30940e+04],\n",
       "        [5.00000e+00, 7.90210e+02, 4.30940e+04],\n",
       "        [6.00000e+00, 1.05990e+03, 4.30940e+04],\n",
       "        [7.00000e+00, 1.06930e+03, 4.30940e+04],\n",
       "        [8.00000e+00, 1.18370e+03, 4.30940e+04],\n",
       "        [9.00000e+00, 1.25880e+03, 4.30940e+04],\n",
       "        [1.00000e+01, 1.87570e+03, 4.30940e+04],\n",
       "        [1.10000e+01, 2.05150e+03, 4.30940e+04],\n",
       "        [1.20000e+01, 2.07640e+03, 4.30940e+04],\n",
       "        [1.30000e+01, 2.25750e+03, 4.30940e+04],\n",
       "        [1.40000e+01, 2.38950e+03, 4.30940e+04],\n",
       "        [1.50000e+01, 2.86370e+03, 4.30940e+04],\n",
       "        [1.60000e+01, 3.02910e+03, 4.30940e+04],\n",
       "        [1.70000e+01, 3.38560e+03, 4.30940e+04],\n",
       "        [1.80000e+01, 3.42520e+03, 4.30940e+04],\n",
       "        [1.90000e+01, 3.56330e+03, 4.30940e+04],\n",
       "        [2.00000e+01, 3.92940e+03, 4.30940e+04],\n",
       "        [2.10000e+01, 3.97470e+03, 4.30940e+04],\n",
       "        [2.20000e+01, 4.13800e+03, 4.30940e+04],\n",
       "        [2.30000e+01, 4.22630e+03, 4.30940e+04],\n",
       "        [2.40000e+01, 4.74160e+03, 4.30940e+04],\n",
       "        [2.50000e+01, 4.78850e+03, 4.30940e+04],\n",
       "        [2.60000e+01, 4.98200e+03, 4.30940e+04],\n",
       "        [2.70000e+01, 5.14340e+03, 4.30940e+04],\n",
       "        [2.80000e+01, 5.21370e+03, 4.30940e+04],\n",
       "        [2.90000e+01, 5.65010e+03, 4.30940e+04],\n",
       "        [3.00000e+01, 5.72040e+03, 4.30940e+04],\n",
       "        [3.10000e+01, 6.36250e+03, 4.30940e+04],\n",
       "        [3.20000e+01, 6.61420e+03, 4.30940e+04],\n",
       "        [3.30000e+01, 6.68980e+03, 4.30940e+04],\n",
       "        [3.40000e+01, 6.72410e+03, 4.30940e+04],\n",
       "        [3.50000e+01, 6.80680e+03, 4.30940e+04],\n",
       "        [3.60000e+01, 6.83930e+03, 4.30940e+04],\n",
       "        [3.70000e+01, 6.99130e+03, 4.30940e+04],\n",
       "        [3.80000e+01, 7.14070e+03, 4.30940e+04],\n",
       "        [3.90000e+01, 7.53300e+03, 4.30940e+04],\n",
       "        [4.00000e+01, 7.91930e+03, 4.30940e+04],\n",
       "        [4.10000e+01, 8.09990e+03, 4.30940e+04],\n",
       "        [4.20000e+01, 8.24930e+03, 4.30940e+04],\n",
       "        [4.30000e+01, 8.49900e+03, 4.30940e+04],\n",
       "        [4.40000e+01, 8.69640e+03, 4.30940e+04],\n",
       "        [4.50000e+01, 8.91250e+03, 4.30940e+04],\n",
       "        [4.60000e+01, 8.97930e+03, 4.30940e+04],\n",
       "        [4.70000e+01, 9.04470e+03, 4.30940e+04],\n",
       "        [4.80000e+01, 9.07510e+03, 4.30940e+04],\n",
       "        [4.90000e+01, 9.30340e+03, 4.30940e+04],\n",
       "        [5.00000e+01, 9.52710e+03, 4.30940e+04],\n",
       "        [5.10000e+01, 9.59500e+03, 4.30940e+04],\n",
       "        [5.20000e+01, 9.94250e+03, 4.30940e+04],\n",
       "        [5.30000e+01, 1.00100e+04, 4.30940e+04],\n",
       "        [5.40000e+01, 1.03170e+04, 4.30940e+04],\n",
       "        [5.50000e+01, 1.03350e+04, 4.30940e+04],\n",
       "        [5.60000e+01, 1.03470e+04, 4.30940e+04],\n",
       "        [5.70000e+01, 1.05090e+04, 4.30940e+04],\n",
       "        [5.80000e+01, 1.07210e+04, 4.30940e+04],\n",
       "        [5.90000e+01, 1.12040e+04, 4.30940e+04],\n",
       "        [6.00000e+01, 1.13500e+04, 4.30940e+04],\n",
       "        [6.10000e+01, 1.16840e+04, 4.30940e+04],\n",
       "        [6.20000e+01, 1.18410e+04, 4.30940e+04],\n",
       "        [6.30000e+01, 1.19000e+04, 4.30940e+04],\n",
       "        [6.40000e+01, 1.19120e+04, 4.30940e+04],\n",
       "        [6.50000e+01, 1.20310e+04, 4.30940e+04],\n",
       "        [6.60000e+01, 1.26870e+04, 4.30940e+04],\n",
       "        [6.70000e+01, 1.27370e+04, 4.30940e+04],\n",
       "        [6.80000e+01, 1.29180e+04, 4.30940e+04],\n",
       "        [6.90000e+01, 1.29210e+04, 4.30940e+04],\n",
       "        [7.00000e+01, 1.31730e+04, 4.30940e+04],\n",
       "        [7.10000e+01, 1.33420e+04, 4.30940e+04],\n",
       "        [7.20000e+01, 1.36760e+04, 4.30940e+04],\n",
       "        [7.30000e+01, 1.37450e+04, 4.30940e+04],\n",
       "        [7.40000e+01, 1.38180e+04, 4.30940e+04],\n",
       "        [7.50000e+01, 1.39360e+04, 4.30940e+04],\n",
       "        [7.60000e+01, 1.40040e+04, 4.30940e+04],\n",
       "        [7.70000e+01, 1.40290e+04, 4.30940e+04],\n",
       "        [7.80000e+01, 1.42910e+04, 4.30940e+04],\n",
       "        [7.90000e+01, 1.44080e+04, 4.30940e+04],\n",
       "        [8.00000e+01, 1.44120e+04, 4.30940e+04]])"
      ]
     },
     "execution_count": 103,
     "metadata": {},
     "output_type": "execute_result"
    }
   ],
   "source": [
    "X_train"
   ]
  },
  {
   "cell_type": "code",
   "execution_count": 104,
   "metadata": {},
   "outputs": [
    {
     "data": {
      "text/plain": [
       "(160, 3)"
      ]
     },
     "execution_count": 104,
     "metadata": {},
     "output_type": "execute_result"
    }
   ],
   "source": [
    "X_train.shape #just to check the shape of the input training set (has 2 variables )\n"
   ]
  },
  {
   "cell_type": "code",
   "execution_count": 105,
   "metadata": {},
   "outputs": [
    {
     "data": {
      "text/plain": [
       "matrix([[0.],\n",
       "        [0.],\n",
       "        [0.],\n",
       "        [0.],\n",
       "        [0.],\n",
       "        [0.],\n",
       "        [0.],\n",
       "        [0.],\n",
       "        [0.],\n",
       "        [0.],\n",
       "        [0.],\n",
       "        [0.],\n",
       "        [0.],\n",
       "        [0.],\n",
       "        [0.],\n",
       "        [0.],\n",
       "        [0.],\n",
       "        [0.],\n",
       "        [0.],\n",
       "        [0.],\n",
       "        [0.],\n",
       "        [0.],\n",
       "        [0.],\n",
       "        [0.],\n",
       "        [0.],\n",
       "        [0.],\n",
       "        [0.],\n",
       "        [0.],\n",
       "        [0.],\n",
       "        [0.],\n",
       "        [0.],\n",
       "        [0.],\n",
       "        [0.],\n",
       "        [0.],\n",
       "        [0.],\n",
       "        [0.],\n",
       "        [0.],\n",
       "        [0.],\n",
       "        [0.],\n",
       "        [0.],\n",
       "        [0.],\n",
       "        [0.],\n",
       "        [0.],\n",
       "        [0.],\n",
       "        [0.],\n",
       "        [0.],\n",
       "        [0.],\n",
       "        [0.],\n",
       "        [0.],\n",
       "        [0.],\n",
       "        [0.],\n",
       "        [0.],\n",
       "        [0.],\n",
       "        [0.],\n",
       "        [0.],\n",
       "        [0.],\n",
       "        [0.],\n",
       "        [0.],\n",
       "        [0.],\n",
       "        [0.],\n",
       "        [0.],\n",
       "        [0.],\n",
       "        [0.],\n",
       "        [0.],\n",
       "        [0.],\n",
       "        [0.],\n",
       "        [0.],\n",
       "        [0.],\n",
       "        [0.],\n",
       "        [0.],\n",
       "        [0.],\n",
       "        [0.],\n",
       "        [0.],\n",
       "        [0.],\n",
       "        [0.],\n",
       "        [0.],\n",
       "        [0.],\n",
       "        [0.],\n",
       "        [0.],\n",
       "        [0.],\n",
       "        [1.],\n",
       "        [1.],\n",
       "        [1.],\n",
       "        [1.],\n",
       "        [1.],\n",
       "        [1.],\n",
       "        [1.],\n",
       "        [1.],\n",
       "        [1.],\n",
       "        [1.],\n",
       "        [1.],\n",
       "        [1.],\n",
       "        [1.],\n",
       "        [1.],\n",
       "        [1.],\n",
       "        [1.],\n",
       "        [1.],\n",
       "        [1.],\n",
       "        [1.],\n",
       "        [1.],\n",
       "        [1.],\n",
       "        [1.],\n",
       "        [1.],\n",
       "        [1.],\n",
       "        [1.],\n",
       "        [1.],\n",
       "        [1.],\n",
       "        [1.],\n",
       "        [1.],\n",
       "        [1.],\n",
       "        [1.],\n",
       "        [1.],\n",
       "        [1.],\n",
       "        [1.],\n",
       "        [1.],\n",
       "        [1.],\n",
       "        [1.],\n",
       "        [1.],\n",
       "        [1.],\n",
       "        [1.],\n",
       "        [1.],\n",
       "        [1.],\n",
       "        [1.],\n",
       "        [1.],\n",
       "        [1.],\n",
       "        [1.],\n",
       "        [1.],\n",
       "        [1.],\n",
       "        [1.],\n",
       "        [1.],\n",
       "        [1.],\n",
       "        [1.],\n",
       "        [1.],\n",
       "        [1.],\n",
       "        [1.],\n",
       "        [1.],\n",
       "        [1.],\n",
       "        [1.],\n",
       "        [1.],\n",
       "        [1.],\n",
       "        [1.],\n",
       "        [1.],\n",
       "        [1.],\n",
       "        [1.],\n",
       "        [1.],\n",
       "        [1.],\n",
       "        [1.],\n",
       "        [1.],\n",
       "        [1.],\n",
       "        [1.],\n",
       "        [1.],\n",
       "        [1.],\n",
       "        [1.],\n",
       "        [1.],\n",
       "        [1.],\n",
       "        [1.],\n",
       "        [1.],\n",
       "        [1.],\n",
       "        [1.],\n",
       "        [1.]])"
      ]
     },
     "execution_count": 105,
     "metadata": {},
     "output_type": "execute_result"
    }
   ],
   "source": [
    "y_train"
   ]
  },
  {
   "cell_type": "code",
   "execution_count": 106,
   "metadata": {},
   "outputs": [
    {
     "data": {
      "text/plain": [
       "Ellipsis"
      ]
     },
     "execution_count": 106,
     "metadata": {},
     "output_type": "execute_result"
    }
   ],
   "source": [
    "#Test set\n",
    "y_test = dataset[160:201,3]\n",
    "X_test = dataset[160:201,0:3]\n",
    "#X_test = dataset[160:201,0:2]     ##Uncomment if not to consider the m*b term \n",
    "\n",
    "...\n",
    "# make class predictions with the model\n",
    "#predictions = model.predict_classes(X_test)"
   ]
  },
  {
   "cell_type": "code",
   "execution_count": 107,
   "metadata": {},
   "outputs": [],
   "source": [
    "from sklearn.linear_model import LogisticRegression"
   ]
  },
  {
   "cell_type": "code",
   "execution_count": 108,
   "metadata": {},
   "outputs": [
    {
     "name": "stderr",
     "output_type": "stream",
     "text": [
      "C:\\Users\\Mohamed\\Anaconda3\\lib\\site-packages\\sklearn\\linear_model\\logistic.py:432: FutureWarning: Default solver will be changed to 'lbfgs' in 0.22. Specify a solver to silence this warning.\n",
      "  FutureWarning)\n",
      "C:\\Users\\Mohamed\\Anaconda3\\lib\\site-packages\\sklearn\\utils\\validation.py:724: DataConversionWarning: A column-vector y was passed when a 1d array was expected. Please change the shape of y to (n_samples, ), for example using ravel().\n",
      "  y = column_or_1d(y, warn=True)\n"
     ]
    },
    {
     "data": {
      "text/plain": [
       "LogisticRegression(C=1.0, class_weight=None, dual=False, fit_intercept=True,\n",
       "                   intercept_scaling=1, l1_ratio=None, max_iter=100,\n",
       "                   multi_class='warn', n_jobs=None, penalty='l2',\n",
       "                   random_state=None, solver='warn', tol=0.0001, verbose=0,\n",
       "                   warm_start=False)"
      ]
     },
     "execution_count": 108,
     "metadata": {},
     "output_type": "execute_result"
    }
   ],
   "source": [
    "logreg = LogisticRegression()\n",
    "logreg.fit(X_train, y_train)"
   ]
  },
  {
   "cell_type": "code",
   "execution_count": 109,
   "metadata": {},
   "outputs": [
    {
     "name": "stdout",
     "output_type": "stream",
     "text": [
      "Accuracy of Logistic regression classifier on training set: 0.88\n",
      "Accuracy of Logistic regression classifier on test set: 0.68\n"
     ]
    }
   ],
   "source": [
    "print('Accuracy of Logistic regression classifier on training set: {:.2f}'\n",
    "     .format(logreg.score(X_train, y_train)))\n",
    "print('Accuracy of Logistic regression classifier on test set: {:.2f}'\n",
    "     .format(logreg.score(X_test, y_test)))"
   ]
  },
  {
   "cell_type": "code",
   "execution_count": 110,
   "metadata": {},
   "outputs": [
    {
     "name": "stdout",
     "output_type": "stream",
     "text": [
      "Accuracy of Decision Tree classifier on training set: 1.00\n",
      "Accuracy of Decision Tree classifier on test set: 1.00\n"
     ]
    }
   ],
   "source": [
    "from sklearn.tree import DecisionTreeClassifier\n",
    "clf = DecisionTreeClassifier().fit(X_train, y_train)\n",
    "print('Accuracy of Decision Tree classifier on training set: {:.2f}'\n",
    "     .format(clf.score(X_train, y_train)))\n",
    "print('Accuracy of Decision Tree classifier on test set: {:.2f}'\n",
    "     .format(clf.score(X_test, y_test)))"
   ]
  },
  {
   "cell_type": "code",
   "execution_count": 111,
   "metadata": {},
   "outputs": [
    {
     "name": "stderr",
     "output_type": "stream",
     "text": [
      "C:\\Users\\Mohamed\\Anaconda3\\lib\\site-packages\\sklearn\\utils\\validation.py:724: DataConversionWarning: A column-vector y was passed when a 1d array was expected. Please change the shape of y to (n_samples, ), for example using ravel().\n",
      "  y = column_or_1d(y, warn=True)\n"
     ]
    },
    {
     "name": "stdout",
     "output_type": "stream",
     "text": [
      "Accuracy of LDA classifier on training set: 0.96\n",
      "Accuracy of LDA classifier on test set: 1.00\n"
     ]
    },
    {
     "name": "stderr",
     "output_type": "stream",
     "text": [
      "C:\\Users\\Mohamed\\Anaconda3\\lib\\site-packages\\sklearn\\discriminant_analysis.py:388: UserWarning: Variables are collinear.\n",
      "  warnings.warn(\"Variables are collinear.\")\n"
     ]
    }
   ],
   "source": [
    "from sklearn.discriminant_analysis import LinearDiscriminantAnalysis\n",
    "\n",
    "lda = LinearDiscriminantAnalysis()\n",
    "lda.fit(X_train, y_train)\n",
    "print('Accuracy of LDA classifier on training set: {:.2f}'\n",
    "     .format(lda.score(X_train, y_train)))\n",
    "print('Accuracy of LDA classifier on test set: {:.2f}'\n",
    "     .format(lda.score(X_test, y_test)))"
   ]
  },
  {
   "cell_type": "code",
   "execution_count": 112,
   "metadata": {},
   "outputs": [
    {
     "name": "stderr",
     "output_type": "stream",
     "text": [
      "C:\\Users\\Mohamed\\Anaconda3\\lib\\site-packages\\sklearn\\utils\\validation.py:724: DataConversionWarning: A column-vector y was passed when a 1d array was expected. Please change the shape of y to (n_samples, ), for example using ravel().\n",
      "  y = column_or_1d(y, warn=True)\n"
     ]
    },
    {
     "name": "stdout",
     "output_type": "stream",
     "text": [
      "Accuracy of GNB classifier on training set: 1.00\n",
      "Accuracy of GNB classifier on test set: 1.00\n"
     ]
    }
   ],
   "source": [
    "from sklearn.naive_bayes import GaussianNB\n",
    "\n",
    "gnb = GaussianNB()\n",
    "gnb.fit(X_train, y_train)\n",
    "print('Accuracy of GNB classifier on training set: {:.2f}'\n",
    "     .format(gnb.score(X_train, y_train)))\n",
    "print('Accuracy of GNB classifier on test set: {:.2f}'\n",
    "     .format(gnb.score(X_test, y_test)))"
   ]
  },
  {
   "cell_type": "code",
   "execution_count": 113,
   "metadata": {},
   "outputs": [
    {
     "name": "stdout",
     "output_type": "stream",
     "text": [
      "Accuracy of SVM classifier on training set: 1.00\n",
      "Accuracy of SVM classifier on test set: 0.50\n"
     ]
    },
    {
     "name": "stderr",
     "output_type": "stream",
     "text": [
      "C:\\Users\\Mohamed\\Anaconda3\\lib\\site-packages\\sklearn\\utils\\validation.py:724: DataConversionWarning: A column-vector y was passed when a 1d array was expected. Please change the shape of y to (n_samples, ), for example using ravel().\n",
      "  y = column_or_1d(y, warn=True)\n",
      "C:\\Users\\Mohamed\\Anaconda3\\lib\\site-packages\\sklearn\\svm\\base.py:193: FutureWarning: The default value of gamma will change from 'auto' to 'scale' in version 0.22 to account better for unscaled features. Set gamma explicitly to 'auto' or 'scale' to avoid this warning.\n",
      "  \"avoid this warning.\", FutureWarning)\n"
     ]
    }
   ],
   "source": [
    "from sklearn.svm import SVC\n",
    "\n",
    "\n",
    "svm = SVC()\n",
    "svm.fit(X_train, y_train)\n",
    "print('Accuracy of SVM classifier on training set: {:.2f}'\n",
    "     .format(svm.score(X_train, y_train)))\n",
    "print('Accuracy of SVM classifier on test set: {:.2f}'\n",
    "     .format(svm.score(X_test, y_test)))"
   ]
  },
  {
   "cell_type": "code",
   "execution_count": 114,
   "metadata": {},
   "outputs": [
    {
     "name": "stderr",
     "output_type": "stream",
     "text": [
      "C:\\Users\\Mohamed\\Anaconda3\\lib\\site-packages\\ipykernel_launcher.py:5: DataConversionWarning: A column-vector y was passed when a 1d array was expected. Please change the shape of y to (n_samples, ), for example using ravel().\n",
      "  \"\"\"\n"
     ]
    },
    {
     "name": "stdout",
     "output_type": "stream",
     "text": [
      "Accuracy of K-NN classifier on training set: 1.00\n",
      "Accuracy of K-NN classifier on test set: 1.00\n"
     ]
    }
   ],
   "source": [
    "from sklearn.metrics import classification_report\n",
    "from sklearn.metrics import confusion_matrix\n",
    "from sklearn.neighbors import KNeighborsClassifier\n",
    "knn = KNeighborsClassifier()\n",
    "knn.fit(X_train, y_train)\n",
    "print('Accuracy of K-NN classifier on training set: {:.2f}'\n",
    "     .format(knn.score(X_train, y_train)))\n",
    "print('Accuracy of K-NN classifier on test set: {:.2f}'\n",
    "     .format(knn.score(X_test, y_test)))"
   ]
  },
  {
   "cell_type": "code",
   "execution_count": 115,
   "metadata": {},
   "outputs": [
    {
     "name": "stdout",
     "output_type": "stream",
     "text": [
      "[[20  0]\n",
      " [ 0 20]]\n",
      "              precision    recall  f1-score   support\n",
      "\n",
      "         0.0       1.00      1.00      1.00        20\n",
      "         1.0       1.00      1.00      1.00        20\n",
      "\n",
      "    accuracy                           1.00        40\n",
      "   macro avg       1.00      1.00      1.00        40\n",
      "weighted avg       1.00      1.00      1.00        40\n",
      "\n"
     ]
    }
   ],
   "source": [
    "\n",
    "pred = knn.predict(X_test)\n",
    "print(confusion_matrix(y_test, pred))\n",
    "print(classification_report(y_test, pred))"
   ]
  },
  {
   "cell_type": "code",
   "execution_count": 116,
   "metadata": {},
   "outputs": [
    {
     "name": "stderr",
     "output_type": "stream",
     "text": [
      "C:\\Users\\Mohamed\\Anaconda3\\lib\\site-packages\\ipykernel_launcher.py:6: DataConversionWarning: A column-vector y was passed when a 1d array was expected. Please change the shape of y to (n_samples, ), for example using ravel().\n",
      "  \n",
      "C:\\Users\\Mohamed\\Anaconda3\\lib\\site-packages\\ipykernel_launcher.py:6: DataConversionWarning: A column-vector y was passed when a 1d array was expected. Please change the shape of y to (n_samples, ), for example using ravel().\n",
      "  \n",
      "C:\\Users\\Mohamed\\Anaconda3\\lib\\site-packages\\ipykernel_launcher.py:6: DataConversionWarning: A column-vector y was passed when a 1d array was expected. Please change the shape of y to (n_samples, ), for example using ravel().\n",
      "  \n",
      "C:\\Users\\Mohamed\\Anaconda3\\lib\\site-packages\\ipykernel_launcher.py:6: DataConversionWarning: A column-vector y was passed when a 1d array was expected. Please change the shape of y to (n_samples, ), for example using ravel().\n",
      "  \n",
      "C:\\Users\\Mohamed\\Anaconda3\\lib\\site-packages\\ipykernel_launcher.py:6: DataConversionWarning: A column-vector y was passed when a 1d array was expected. Please change the shape of y to (n_samples, ), for example using ravel().\n",
      "  \n",
      "C:\\Users\\Mohamed\\Anaconda3\\lib\\site-packages\\ipykernel_launcher.py:6: DataConversionWarning: A column-vector y was passed when a 1d array was expected. Please change the shape of y to (n_samples, ), for example using ravel().\n",
      "  \n",
      "C:\\Users\\Mohamed\\Anaconda3\\lib\\site-packages\\ipykernel_launcher.py:6: DataConversionWarning: A column-vector y was passed when a 1d array was expected. Please change the shape of y to (n_samples, ), for example using ravel().\n",
      "  \n",
      "C:\\Users\\Mohamed\\Anaconda3\\lib\\site-packages\\ipykernel_launcher.py:6: DataConversionWarning: A column-vector y was passed when a 1d array was expected. Please change the shape of y to (n_samples, ), for example using ravel().\n",
      "  \n",
      "C:\\Users\\Mohamed\\Anaconda3\\lib\\site-packages\\ipykernel_launcher.py:6: DataConversionWarning: A column-vector y was passed when a 1d array was expected. Please change the shape of y to (n_samples, ), for example using ravel().\n",
      "  \n",
      "C:\\Users\\Mohamed\\Anaconda3\\lib\\site-packages\\ipykernel_launcher.py:6: DataConversionWarning: A column-vector y was passed when a 1d array was expected. Please change the shape of y to (n_samples, ), for example using ravel().\n",
      "  \n",
      "C:\\Users\\Mohamed\\Anaconda3\\lib\\site-packages\\ipykernel_launcher.py:6: DataConversionWarning: A column-vector y was passed when a 1d array was expected. Please change the shape of y to (n_samples, ), for example using ravel().\n",
      "  \n",
      "C:\\Users\\Mohamed\\Anaconda3\\lib\\site-packages\\ipykernel_launcher.py:6: DataConversionWarning: A column-vector y was passed when a 1d array was expected. Please change the shape of y to (n_samples, ), for example using ravel().\n",
      "  \n",
      "C:\\Users\\Mohamed\\Anaconda3\\lib\\site-packages\\ipykernel_launcher.py:6: DataConversionWarning: A column-vector y was passed when a 1d array was expected. Please change the shape of y to (n_samples, ), for example using ravel().\n",
      "  \n",
      "C:\\Users\\Mohamed\\Anaconda3\\lib\\site-packages\\ipykernel_launcher.py:6: DataConversionWarning: A column-vector y was passed when a 1d array was expected. Please change the shape of y to (n_samples, ), for example using ravel().\n",
      "  \n",
      "C:\\Users\\Mohamed\\Anaconda3\\lib\\site-packages\\ipykernel_launcher.py:6: DataConversionWarning: A column-vector y was passed when a 1d array was expected. Please change the shape of y to (n_samples, ), for example using ravel().\n",
      "  \n",
      "C:\\Users\\Mohamed\\Anaconda3\\lib\\site-packages\\ipykernel_launcher.py:6: DataConversionWarning: A column-vector y was passed when a 1d array was expected. Please change the shape of y to (n_samples, ), for example using ravel().\n",
      "  \n",
      "C:\\Users\\Mohamed\\Anaconda3\\lib\\site-packages\\ipykernel_launcher.py:6: DataConversionWarning: A column-vector y was passed when a 1d array was expected. Please change the shape of y to (n_samples, ), for example using ravel().\n",
      "  \n",
      "C:\\Users\\Mohamed\\Anaconda3\\lib\\site-packages\\ipykernel_launcher.py:6: DataConversionWarning: A column-vector y was passed when a 1d array was expected. Please change the shape of y to (n_samples, ), for example using ravel().\n",
      "  \n",
      "C:\\Users\\Mohamed\\Anaconda3\\lib\\site-packages\\ipykernel_launcher.py:6: DataConversionWarning: A column-vector y was passed when a 1d array was expected. Please change the shape of y to (n_samples, ), for example using ravel().\n",
      "  \n"
     ]
    },
    {
     "data": {
      "text/plain": [
       "([<matplotlib.axis.XTick at 0x25051666198>,\n",
       "  <matplotlib.axis.XTick at 0x250515e47f0>,\n",
       "  <matplotlib.axis.XTick at 0x250515f86d8>,\n",
       "  <matplotlib.axis.XTick at 0x25051680f60>,\n",
       "  <matplotlib.axis.XTick at 0x2505168e438>],\n",
       " <a list of 5 Text xticklabel objects>)"
      ]
     },
     "execution_count": 116,
     "metadata": {},
     "output_type": "execute_result"
    },
    {
     "data": {
      "image/png": "[encoded data removed]",
      "text/plain": [
       "<Figure size 432x288 with 1 Axes>"
      ]
     },
     "metadata": {
      "needs_background": "light"
     },
     "output_type": "display_data"
    }
   ],
   "source": [
    "\n",
    "k_range = range(1, 20)\n",
    "scores = []\n",
    "\n",
    "for k in k_range:\n",
    "    knn = KNeighborsClassifier(n_neighbors = k)\n",
    "    knn.fit(X_train, y_train)\n",
    "    scores.append(knn.score(X_test, y_test))\n",
    "plt.figure()\n",
    "plt.xlabel('k')\n",
    "plt.ylabel('accuracy')\n",
    "plt.scatter(k_range, scores)\n",
    "plt.xticks([0,5,10,15,20])"
   ]
  },
  {
   "cell_type": "code",
   "execution_count": 117,
   "metadata": {},
   "outputs": [
    {
     "data": {
      "text/plain": [
       "1.0"
      ]
     },
     "execution_count": 117,
     "metadata": {},
     "output_type": "execute_result"
    }
   ],
   "source": [
    "knn.score(X_test, y_test)"
   ]
  },
  {
   "cell_type": "code",
   "execution_count": 118,
   "metadata": {},
   "outputs": [],
   "source": [
    "pred = knn.predict(X_test)"
   ]
  },
  {
   "cell_type": "code",
   "execution_count": 119,
   "metadata": {},
   "outputs": [
    {
     "name": "stdout",
     "output_type": "stream",
     "text": [
      "[0. 0. 0. 0. 0. 0. 0. 0. 0. 0. 0. 0. 0. 0. 0. 0. 0. 0. 0. 0. 1. 1. 1. 1.\n",
      " 1. 1. 1. 1. 1. 1. 1. 1. 1. 1. 1. 1. 1. 1. 1. 1.]\n"
     ]
    }
   ],
   "source": [
    "print(pred)"
   ]
  }
 ],
 "metadata": {
  "kernelspec": {
   "display_name": "Python 3",
   "language": "python",
   "name": "python3"
  },
  "language_info": {
   "codemirror_mode": {
    "name": "ipython",
    "version": 3
   },
   "file_extension": ".py",
   "mimetype": "text/x-python",
   "name": "python",
   "nbconvert_exporter": "python",
   "pygments_lexer": "ipython3",
   "version": "3.7.3"
  }
 },
 "nbformat": 4,
 "nbformat_minor": 2
}
