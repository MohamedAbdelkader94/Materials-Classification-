{
 "cells": [
  {
   "cell_type": "code",
   "execution_count": 1,
   "metadata": {},
   "outputs": [],
   "source": [
    "import cv2\n",
    "import matplotlib\n",
    "matplotlib.rcParams['figure.figsize']=16,8\n",
    "import matplotlib.pyplot as plt\n",
    "import numpy as np\n",
    "from scipy import ndimage, signal\n",
    "import skimage \n",
    "import operator \n",
    "import os\n",
    "import random\n",
    "\n",
    "import glob\n",
    "\n",
    "from PIL import Image\n",
    "import pandas as pd\n",
    "\n",
    "from skimage import measure\n",
    "from sklearn import datasets, metrics, neighbors, svm"
   ]
  },
  {
   "cell_type": "code",
   "execution_count": 2,
   "metadata": {},
   "outputs": [],
   "source": [
    "def imshow(img,ax=None,**kwargs):\n",
    "    if ax is None:\n",
    "        ax=plt.gca()\n",
    "    if len(img.shape)==2:\n",
    "        #if grayscale, make the image RGB in order for matplotlib to ignore vmin and vmax arguments\n",
    "        img=np.repeat(img[...,None],3,2)\n",
    "    return ax.imshow(img,**kwargs) "
   ]
  },
  {
   "cell_type": "code",
   "execution_count": 3,
   "metadata": {},
   "outputs": [
    {
     "name": "stderr",
     "output_type": "stream",
     "text": [
      "Using TensorFlow backend.\n"
     ]
    },
    {
     "data": {
      "text/plain": [
       "Ellipsis"
      ]
     },
     "execution_count": 3,
     "metadata": {},
     "output_type": "execute_result"
    }
   ],
   "source": [
    "# first neural network with keras tutorial\n",
    "from numpy import loadtxt\n",
    "from keras.models import Sequential\n",
    "from keras.layers import Dense\n",
    "from keras.optimizers import SGD\n",
    "..."
   ]
  },
  {
   "cell_type": "code",
   "execution_count": 85,
   "metadata": {},
   "outputs": [
    {
     "data": {
      "text/plain": [
       "Ellipsis"
      ]
     },
     "execution_count": 85,
     "metadata": {},
     "output_type": "execute_result"
    }
   ],
   "source": [
    "...\n",
    "# load the dataset\n",
    "#dataset = loadtxt('Desktop/Dataset_ANSYS_Results_2.csv', delimiter=',')\n",
    "dataset = pd.read_csv('New_Iso_data.csv')               #can also read the data using pandas library \n",
    "# split into input (X) and output (y) variables\n",
    "dataset = np.matrix(dataset)\n",
    "y_train = dataset[0:160,3].astype(float)\n",
    "X_train = dataset[0:160,0:3]\n",
    "..."
   ]
  },
  {
   "cell_type": "code",
   "execution_count": 86,
   "metadata": {},
   "outputs": [
    {
     "data": {
      "text/plain": [
       "matrix([[1.0000e+00, 6.7086e+01, 1.6630e+03],\n",
       "        [2.0000e+00, 2.7847e+02, 1.6630e+03],\n",
       "        [3.0000e+00, 4.1648e+02, 1.6630e+03],\n",
       "        [4.0000e+00, 9.0921e+02, 1.6630e+03],\n",
       "        [5.0000e+00, 1.1653e+03, 1.6630e+03],\n",
       "        [6.0000e+00, 1.3819e+03, 1.6630e+03],\n",
       "        [7.0000e+00, 1.7533e+03, 1.6630e+03],\n",
       "        [8.0000e+00, 1.7998e+03, 1.6630e+03],\n",
       "        [9.0000e+00, 2.2820e+03, 1.6630e+03],\n",
       "        [1.0000e+01, 2.4344e+03, 1.6630e+03],\n",
       "        [1.1000e+01, 2.9008e+03, 1.6630e+03],\n",
       "        [1.2000e+01, 3.3794e+03, 1.6630e+03],\n",
       "        [1.3000e+01, 3.8191e+03, 1.6630e+03],\n",
       "        [1.4000e+01, 4.3622e+03, 1.6630e+03],\n",
       "        [1.5000e+01, 4.6750e+03, 1.6630e+03],\n",
       "        [1.6000e+01, 4.8047e+03, 1.6630e+03],\n",
       "        [1.7000e+01, 5.0325e+03, 1.6630e+03],\n",
       "        [1.8000e+01, 5.2318e+03, 1.6630e+03],\n",
       "        [1.9000e+01, 5.3084e+03, 1.6630e+03],\n",
       "        [2.0000e+01, 5.6658e+03, 1.6630e+03],\n",
       "        [2.1000e+01, 6.1759e+03, 1.6630e+03],\n",
       "        [2.2000e+01, 6.2599e+03, 1.6630e+03],\n",
       "        [2.3000e+01, 6.3584e+03, 1.6630e+03],\n",
       "        [2.4000e+01, 7.6008e+03, 1.6630e+03],\n",
       "        [2.5000e+01, 7.8535e+03, 1.6630e+03],\n",
       "        [2.6000e+01, 8.1395e+03, 1.6630e+03],\n",
       "        [2.7000e+01, 8.4358e+03, 1.6630e+03],\n",
       "        [2.8000e+01, 9.1812e+03, 1.6630e+03],\n",
       "        [2.9000e+01, 9.2565e+03, 1.6630e+03],\n",
       "        [3.0000e+01, 9.6480e+03, 1.6630e+03],\n",
       "        [3.1000e+01, 1.0337e+04, 1.6630e+03],\n",
       "        [3.2000e+01, 1.0382e+04, 1.6630e+03],\n",
       "        [3.3000e+01, 1.0613e+04, 1.6630e+03],\n",
       "        [3.4000e+01, 1.0920e+04, 1.6630e+03],\n",
       "        [3.5000e+01, 1.0943e+04, 1.6630e+03],\n",
       "        [3.6000e+01, 1.1208e+04, 1.6630e+03],\n",
       "        [3.7000e+01, 1.1841e+04, 1.6630e+03],\n",
       "        [3.8000e+01, 1.2862e+04, 1.6630e+03],\n",
       "        [3.9000e+01, 1.3224e+04, 1.6630e+03],\n",
       "        [4.0000e+01, 1.3420e+04, 1.6630e+03],\n",
       "        [4.1000e+01, 1.3499e+04, 1.6630e+03],\n",
       "        [4.2000e+01, 1.3723e+04, 1.6630e+03],\n",
       "        [4.3000e+01, 1.3945e+04, 1.6630e+03],\n",
       "        [4.4000e+01, 1.4494e+04, 1.6630e+03],\n",
       "        [4.5000e+01, 1.4874e+04, 1.6630e+03],\n",
       "        [4.6000e+01, 1.5318e+04, 1.6630e+03],\n",
       "        [4.7000e+01, 1.5389e+04, 1.6630e+03],\n",
       "        [4.8000e+01, 1.5696e+04, 1.6630e+03],\n",
       "        [4.9000e+01, 1.5935e+04, 1.6630e+03],\n",
       "        [5.0000e+01, 1.6165e+04, 1.6630e+03],\n",
       "        [5.1000e+01, 1.6373e+04, 1.6630e+03],\n",
       "        [5.2000e+01, 1.6868e+04, 1.6630e+03],\n",
       "        [5.3000e+01, 1.7377e+04, 1.6630e+03],\n",
       "        [5.4000e+01, 1.7548e+04, 1.6630e+03],\n",
       "        [5.5000e+01, 1.7643e+04, 1.6630e+03],\n",
       "        [5.6000e+01, 1.8124e+04, 1.6630e+03],\n",
       "        [5.7000e+01, 1.8739e+04, 1.6630e+03],\n",
       "        [5.8000e+01, 1.8766e+04, 1.6630e+03],\n",
       "        [5.9000e+01, 1.8941e+04, 1.6630e+03],\n",
       "        [6.0000e+01, 1.9472e+04, 1.6630e+03],\n",
       "        [6.1000e+01, 1.9689e+04, 1.6630e+03],\n",
       "        [6.2000e+01, 1.9770e+04, 1.6630e+03],\n",
       "        [6.3000e+01, 2.0154e+04, 1.6630e+03],\n",
       "        [6.4000e+01, 2.0246e+04, 1.6630e+03],\n",
       "        [6.5000e+01, 2.0820e+04, 1.6630e+03],\n",
       "        [6.6000e+01, 2.1335e+04, 1.6630e+03],\n",
       "        [6.7000e+01, 2.1672e+04, 1.6630e+03],\n",
       "        [6.8000e+01, 2.1828e+04, 1.6630e+03],\n",
       "        [6.9000e+01, 2.1875e+04, 1.6630e+03],\n",
       "        [7.0000e+01, 2.2086e+04, 1.6630e+03],\n",
       "        [7.1000e+01, 2.2231e+04, 1.6630e+03],\n",
       "        [7.2000e+01, 2.2882e+04, 1.6630e+03],\n",
       "        [7.3000e+01, 2.2981e+04, 1.6630e+03],\n",
       "        [7.4000e+01, 2.2994e+04, 1.6630e+03],\n",
       "        [7.5000e+01, 2.3481e+04, 1.6630e+03],\n",
       "        [7.6000e+01, 2.3901e+04, 1.6630e+03],\n",
       "        [7.7000e+01, 2.4073e+04, 1.6630e+03],\n",
       "        [7.8000e+01, 2.4180e+04, 1.6630e+03],\n",
       "        [7.9000e+01, 2.5140e+04, 1.6630e+03],\n",
       "        [8.0000e+01, 2.5219e+04, 1.6630e+03],\n",
       "        [1.0000e+00, 6.6376e+01, 4.5150e+03],\n",
       "        [2.0000e+00, 2.8078e+02, 4.5150e+03],\n",
       "        [3.0000e+00, 4.1282e+02, 4.5150e+03],\n",
       "        [4.0000e+00, 9.1377e+02, 4.5150e+03],\n",
       "        [5.0000e+00, 1.1549e+03, 4.5150e+03],\n",
       "        [6.0000e+00, 1.3814e+03, 4.5150e+03],\n",
       "        [7.0000e+00, 1.7541e+03, 4.5150e+03],\n",
       "        [8.0000e+00, 1.7800e+03, 4.5150e+03],\n",
       "        [9.0000e+00, 2.2615e+03, 4.5150e+03],\n",
       "        [1.0000e+01, 2.4093e+03, 4.5150e+03],\n",
       "        [1.1000e+01, 2.8917e+03, 4.5150e+03],\n",
       "        [1.2000e+01, 3.3671e+03, 4.5150e+03],\n",
       "        [1.3000e+01, 3.7684e+03, 4.5150e+03],\n",
       "        [1.4000e+01, 4.3430e+03, 4.5150e+03],\n",
       "        [1.5000e+01, 4.6552e+03, 4.5150e+03],\n",
       "        [1.6000e+01, 4.7374e+03, 4.5150e+03],\n",
       "        [1.7000e+01, 5.0160e+03, 4.5150e+03],\n",
       "        [1.8000e+01, 5.2477e+03, 4.5150e+03],\n",
       "        [1.9000e+01, 5.2589e+03, 4.5150e+03],\n",
       "        [2.0000e+01, 5.5921e+03, 4.5150e+03],\n",
       "        [2.1000e+01, 6.1309e+03, 4.5150e+03],\n",
       "        [2.2000e+01, 6.2259e+03, 4.5150e+03],\n",
       "        [2.3000e+01, 6.2925e+03, 4.5150e+03],\n",
       "        [2.4000e+01, 7.5432e+03, 4.5150e+03],\n",
       "        [2.5000e+01, 7.7539e+03, 4.5150e+03],\n",
       "        [2.6000e+01, 8.0868e+03, 4.5150e+03],\n",
       "        [2.7000e+01, 8.3584e+03, 4.5150e+03],\n",
       "        [2.8000e+01, 9.0612e+03, 4.5150e+03],\n",
       "        [2.9000e+01, 9.1891e+03, 4.5150e+03],\n",
       "        [3.0000e+01, 9.5250e+03, 4.5150e+03],\n",
       "        [3.1000e+01, 1.0240e+04, 4.5150e+03],\n",
       "        [3.2000e+01, 1.0264e+04, 4.5150e+03],\n",
       "        [3.3000e+01, 1.0480e+04, 4.5150e+03],\n",
       "        [3.4000e+01, 1.0819e+04, 4.5150e+03],\n",
       "        [3.5000e+01, 1.1013e+04, 4.5150e+03],\n",
       "        [3.6000e+01, 1.1124e+04, 4.5150e+03],\n",
       "        [3.7000e+01, 1.1719e+04, 4.5150e+03],\n",
       "        [3.8000e+01, 1.2749e+04, 4.5150e+03],\n",
       "        [3.9000e+01, 1.3058e+04, 4.5150e+03],\n",
       "        [4.0000e+01, 1.3319e+04, 4.5150e+03],\n",
       "        [4.1000e+01, 1.3366e+04, 4.5150e+03],\n",
       "        [4.2000e+01, 1.3596e+04, 4.5150e+03],\n",
       "        [4.3000e+01, 1.4082e+04, 4.5150e+03],\n",
       "        [4.4000e+01, 1.4562e+04, 4.5150e+03],\n",
       "        [4.5000e+01, 1.4685e+04, 4.5150e+03],\n",
       "        [4.6000e+01, 1.5117e+04, 4.5150e+03],\n",
       "        [4.7000e+01, 1.5258e+04, 4.5150e+03],\n",
       "        [4.8000e+01, 1.5548e+04, 4.5150e+03],\n",
       "        [4.9000e+01, 1.5797e+04, 4.5150e+03],\n",
       "        [5.0000e+01, 1.5974e+04, 4.5150e+03],\n",
       "        [5.1000e+01, 1.6166e+04, 4.5150e+03],\n",
       "        [5.2000e+01, 1.6696e+04, 4.5150e+03],\n",
       "        [5.3000e+01, 1.7176e+04, 4.5150e+03],\n",
       "        [5.4000e+01, 1.7495e+04, 4.5150e+03],\n",
       "        [5.5000e+01, 1.7560e+04, 4.5150e+03],\n",
       "        [5.6000e+01, 1.8267e+04, 4.5150e+03],\n",
       "        [5.7000e+01, 1.8578e+04, 4.5150e+03],\n",
       "        [5.8000e+01, 1.8586e+04, 4.5150e+03],\n",
       "        [5.9000e+01, 1.8743e+04, 4.5150e+03],\n",
       "        [6.0000e+01, 1.9532e+04, 4.5150e+03],\n",
       "        [6.1000e+01, 1.9551e+04, 4.5150e+03],\n",
       "        [6.2000e+01, 1.9845e+04, 4.5150e+03],\n",
       "        [6.3000e+01, 1.9988e+04, 4.5150e+03],\n",
       "        [6.4000e+01, 2.0045e+04, 4.5150e+03],\n",
       "        [6.5000e+01, 2.0615e+04, 4.5150e+03],\n",
       "        [6.6000e+01, 2.1025e+04, 4.5150e+03],\n",
       "        [6.7000e+01, 2.1429e+04, 4.5150e+03],\n",
       "        [6.8000e+01, 2.1635e+04, 4.5150e+03],\n",
       "        [6.9000e+01, 2.1824e+04, 4.5150e+03],\n",
       "        [7.0000e+01, 2.1905e+04, 4.5150e+03],\n",
       "        [7.1000e+01, 2.1979e+04, 4.5150e+03],\n",
       "        [7.2000e+01, 2.2625e+04, 4.5150e+03],\n",
       "        [7.3000e+01, 2.2764e+04, 4.5150e+03],\n",
       "        [7.4000e+01, 2.2784e+04, 4.5150e+03],\n",
       "        [7.5000e+01, 2.3197e+04, 4.5150e+03],\n",
       "        [7.6000e+01, 2.3667e+04, 4.5150e+03],\n",
       "        [7.7000e+01, 2.3790e+04, 4.5150e+03],\n",
       "        [7.8000e+01, 2.4386e+04, 4.5150e+03],\n",
       "        [7.9000e+01, 2.4916e+04, 4.5150e+03],\n",
       "        [8.0000e+01, 2.5229e+04, 4.5150e+03]])"
      ]
     },
     "execution_count": 86,
     "metadata": {},
     "output_type": "execute_result"
    }
   ],
   "source": [
    "X_train"
   ]
  },
  {
   "cell_type": "code",
   "execution_count": 87,
   "metadata": {},
   "outputs": [
    {
     "data": {
      "text/plain": [
       "(160, 3)"
      ]
     },
     "execution_count": 87,
     "metadata": {},
     "output_type": "execute_result"
    }
   ],
   "source": [
    "X_train.shape #just to check the shape of the input training set (has 2 variables )\n"
   ]
  },
  {
   "cell_type": "code",
   "execution_count": 88,
   "metadata": {},
   "outputs": [
    {
     "data": {
      "text/plain": [
       "matrix([[1.],\n",
       "        [1.],\n",
       "        [1.],\n",
       "        [1.],\n",
       "        [1.],\n",
       "        [1.],\n",
       "        [1.],\n",
       "        [1.],\n",
       "        [1.],\n",
       "        [1.],\n",
       "        [1.],\n",
       "        [1.],\n",
       "        [1.],\n",
       "        [1.],\n",
       "        [1.],\n",
       "        [1.],\n",
       "        [1.],\n",
       "        [1.],\n",
       "        [1.],\n",
       "        [1.],\n",
       "        [1.],\n",
       "        [1.],\n",
       "        [1.],\n",
       "        [1.],\n",
       "        [1.],\n",
       "        [1.],\n",
       "        [1.],\n",
       "        [1.],\n",
       "        [1.],\n",
       "        [1.],\n",
       "        [1.],\n",
       "        [1.],\n",
       "        [1.],\n",
       "        [1.],\n",
       "        [1.],\n",
       "        [1.],\n",
       "        [1.],\n",
       "        [1.],\n",
       "        [1.],\n",
       "        [1.],\n",
       "        [1.],\n",
       "        [1.],\n",
       "        [1.],\n",
       "        [1.],\n",
       "        [1.],\n",
       "        [1.],\n",
       "        [1.],\n",
       "        [1.],\n",
       "        [1.],\n",
       "        [1.],\n",
       "        [1.],\n",
       "        [1.],\n",
       "        [1.],\n",
       "        [1.],\n",
       "        [1.],\n",
       "        [1.],\n",
       "        [1.],\n",
       "        [1.],\n",
       "        [1.],\n",
       "        [1.],\n",
       "        [1.],\n",
       "        [1.],\n",
       "        [1.],\n",
       "        [1.],\n",
       "        [1.],\n",
       "        [1.],\n",
       "        [1.],\n",
       "        [1.],\n",
       "        [1.],\n",
       "        [1.],\n",
       "        [1.],\n",
       "        [1.],\n",
       "        [1.],\n",
       "        [1.],\n",
       "        [1.],\n",
       "        [1.],\n",
       "        [1.],\n",
       "        [1.],\n",
       "        [1.],\n",
       "        [1.],\n",
       "        [0.],\n",
       "        [0.],\n",
       "        [0.],\n",
       "        [0.],\n",
       "        [0.],\n",
       "        [0.],\n",
       "        [0.],\n",
       "        [0.],\n",
       "        [0.],\n",
       "        [0.],\n",
       "        [0.],\n",
       "        [0.],\n",
       "        [0.],\n",
       "        [0.],\n",
       "        [0.],\n",
       "        [0.],\n",
       "        [0.],\n",
       "        [0.],\n",
       "        [0.],\n",
       "        [0.],\n",
       "        [0.],\n",
       "        [0.],\n",
       "        [0.],\n",
       "        [0.],\n",
       "        [0.],\n",
       "        [0.],\n",
       "        [0.],\n",
       "        [0.],\n",
       "        [0.],\n",
       "        [0.],\n",
       "        [0.],\n",
       "        [0.],\n",
       "        [0.],\n",
       "        [0.],\n",
       "        [0.],\n",
       "        [0.],\n",
       "        [0.],\n",
       "        [0.],\n",
       "        [0.],\n",
       "        [0.],\n",
       "        [0.],\n",
       "        [0.],\n",
       "        [0.],\n",
       "        [0.],\n",
       "        [0.],\n",
       "        [0.],\n",
       "        [0.],\n",
       "        [0.],\n",
       "        [0.],\n",
       "        [0.],\n",
       "        [0.],\n",
       "        [0.],\n",
       "        [0.],\n",
       "        [0.],\n",
       "        [0.],\n",
       "        [0.],\n",
       "        [0.],\n",
       "        [0.],\n",
       "        [0.],\n",
       "        [0.],\n",
       "        [0.],\n",
       "        [0.],\n",
       "        [0.],\n",
       "        [0.],\n",
       "        [0.],\n",
       "        [0.],\n",
       "        [0.],\n",
       "        [0.],\n",
       "        [0.],\n",
       "        [0.],\n",
       "        [0.],\n",
       "        [0.],\n",
       "        [0.],\n",
       "        [0.],\n",
       "        [0.],\n",
       "        [0.],\n",
       "        [0.],\n",
       "        [0.],\n",
       "        [0.],\n",
       "        [0.]])"
      ]
     },
     "execution_count": 88,
     "metadata": {},
     "output_type": "execute_result"
    }
   ],
   "source": [
    "y_train"
   ]
  },
  {
   "cell_type": "code",
   "execution_count": 90,
   "metadata": {},
   "outputs": [
    {
     "data": {
      "text/plain": [
       "Ellipsis"
      ]
     },
     "execution_count": 90,
     "metadata": {},
     "output_type": "execute_result"
    }
   ],
   "source": [
    "#Test set\n",
    "y_test = dataset[160:201,3]\n",
    "X_test = dataset[160:201,0:3]\n",
    "\n",
    "...\n",
    "# make class predictions with the model\n",
    "#predictions = model.predict_classes(X_test)"
   ]
  },
  {
   "cell_type": "code",
   "execution_count": 72,
   "metadata": {},
   "outputs": [],
   "source": [
    "from sklearn.linear_model import LogisticRegression"
   ]
  },
  {
   "cell_type": "code",
   "execution_count": 91,
   "metadata": {},
   "outputs": [
    {
     "name": "stderr",
     "output_type": "stream",
     "text": [
      "C:\\Users\\Mohamed\\Anaconda3\\lib\\site-packages\\sklearn\\linear_model\\logistic.py:432: FutureWarning: Default solver will be changed to 'lbfgs' in 0.22. Specify a solver to silence this warning.\n",
      "  FutureWarning)\n",
      "C:\\Users\\Mohamed\\Anaconda3\\lib\\site-packages\\sklearn\\utils\\validation.py:724: DataConversionWarning: A column-vector y was passed when a 1d array was expected. Please change the shape of y to (n_samples, ), for example using ravel().\n",
      "  y = column_or_1d(y, warn=True)\n"
     ]
    },
    {
     "data": {
      "text/plain": [
       "LogisticRegression(C=1.0, class_weight=None, dual=False, fit_intercept=True,\n",
       "                   intercept_scaling=1, l1_ratio=None, max_iter=100,\n",
       "                   multi_class='warn', n_jobs=None, penalty='l2',\n",
       "                   random_state=None, solver='warn', tol=0.0001, verbose=0,\n",
       "                   warm_start=False)"
      ]
     },
     "execution_count": 91,
     "metadata": {},
     "output_type": "execute_result"
    }
   ],
   "source": [
    "logreg = LogisticRegression()\n",
    "logreg.fit(X_train, y_train)"
   ]
  },
  {
   "cell_type": "code",
   "execution_count": 92,
   "metadata": {},
   "outputs": [
    {
     "name": "stdout",
     "output_type": "stream",
     "text": [
      "Accuracy of Logistic regression classifier on training set: 1.00\n",
      "Accuracy of Logistic regression classifier on test set: 0.88\n"
     ]
    }
   ],
   "source": [
    "print('Accuracy of Logistic regression classifier on training set: {:.2f}'\n",
    "     .format(logreg.score(X_train, y_train)))\n",
    "print('Accuracy of Logistic regression classifier on test set: {:.2f}'\n",
    "     .format(logreg.score(X_test, y_test)))"
   ]
  },
  {
   "cell_type": "code",
   "execution_count": 93,
   "metadata": {},
   "outputs": [
    {
     "name": "stdout",
     "output_type": "stream",
     "text": [
      "Accuracy of Decision Tree classifier on training set: 1.00\n",
      "Accuracy of Decision Tree classifier on test set: 1.00\n"
     ]
    }
   ],
   "source": [
    "from sklearn.tree import DecisionTreeClassifier\n",
    "clf = DecisionTreeClassifier().fit(X_train, y_train)\n",
    "print('Accuracy of Decision Tree classifier on training set: {:.2f}'\n",
    "     .format(clf.score(X_train, y_train)))\n",
    "print('Accuracy of Decision Tree classifier on test set: {:.2f}'\n",
    "     .format(clf.score(X_test, y_test)))"
   ]
  },
  {
   "cell_type": "code",
   "execution_count": 94,
   "metadata": {},
   "outputs": [
    {
     "name": "stdout",
     "output_type": "stream",
     "text": [
      "Accuracy of LDA classifier on training set: 0.56\n",
      "Accuracy of LDA classifier on test set: 0.50\n"
     ]
    },
    {
     "name": "stderr",
     "output_type": "stream",
     "text": [
      "C:\\Users\\Mohamed\\Anaconda3\\lib\\site-packages\\sklearn\\utils\\validation.py:724: DataConversionWarning: A column-vector y was passed when a 1d array was expected. Please change the shape of y to (n_samples, ), for example using ravel().\n",
      "  y = column_or_1d(y, warn=True)\n",
      "C:\\Users\\Mohamed\\Anaconda3\\lib\\site-packages\\sklearn\\discriminant_analysis.py:388: UserWarning: Variables are collinear.\n",
      "  warnings.warn(\"Variables are collinear.\")\n"
     ]
    }
   ],
   "source": [
    "from sklearn.discriminant_analysis import LinearDiscriminantAnalysis\n",
    "\n",
    "lda = LinearDiscriminantAnalysis()\n",
    "lda.fit(X_train, y_train)\n",
    "print('Accuracy of LDA classifier on training set: {:.2f}'\n",
    "     .format(lda.score(X_train, y_train)))\n",
    "print('Accuracy of LDA classifier on test set: {:.2f}'\n",
    "     .format(lda.score(X_test, y_test)))"
   ]
  },
  {
   "cell_type": "code",
   "execution_count": 95,
   "metadata": {},
   "outputs": [
    {
     "name": "stdout",
     "output_type": "stream",
     "text": [
      "Accuracy of GNB classifier on training set: 1.00\n",
      "Accuracy of GNB classifier on test set: 1.00\n"
     ]
    },
    {
     "name": "stderr",
     "output_type": "stream",
     "text": [
      "C:\\Users\\Mohamed\\Anaconda3\\lib\\site-packages\\sklearn\\utils\\validation.py:724: DataConversionWarning: A column-vector y was passed when a 1d array was expected. Please change the shape of y to (n_samples, ), for example using ravel().\n",
      "  y = column_or_1d(y, warn=True)\n"
     ]
    }
   ],
   "source": [
    "from sklearn.naive_bayes import GaussianNB\n",
    "\n",
    "gnb = GaussianNB()\n",
    "gnb.fit(X_train, y_train)\n",
    "print('Accuracy of GNB classifier on training set: {:.2f}'\n",
    "     .format(gnb.score(X_train, y_train)))\n",
    "print('Accuracy of GNB classifier on test set: {:.2f}'\n",
    "     .format(gnb.score(X_test, y_test)))"
   ]
  },
  {
   "cell_type": "code",
   "execution_count": 96,
   "metadata": {},
   "outputs": [
    {
     "name": "stdout",
     "output_type": "stream",
     "text": [
      "Accuracy of SVM classifier on training set: 1.00\n",
      "Accuracy of SVM classifier on test set: 0.50\n"
     ]
    },
    {
     "name": "stderr",
     "output_type": "stream",
     "text": [
      "C:\\Users\\Mohamed\\Anaconda3\\lib\\site-packages\\sklearn\\utils\\validation.py:724: DataConversionWarning: A column-vector y was passed when a 1d array was expected. Please change the shape of y to (n_samples, ), for example using ravel().\n",
      "  y = column_or_1d(y, warn=True)\n",
      "C:\\Users\\Mohamed\\Anaconda3\\lib\\site-packages\\sklearn\\svm\\base.py:193: FutureWarning: The default value of gamma will change from 'auto' to 'scale' in version 0.22 to account better for unscaled features. Set gamma explicitly to 'auto' or 'scale' to avoid this warning.\n",
      "  \"avoid this warning.\", FutureWarning)\n"
     ]
    }
   ],
   "source": [
    "from sklearn.svm import SVC\n",
    "\n",
    "\n",
    "svm = SVC()\n",
    "svm.fit(X_train, y_train)\n",
    "print('Accuracy of SVM classifier on training set: {:.2f}'\n",
    "     .format(svm.score(X_train, y_train)))\n",
    "print('Accuracy of SVM classifier on test set: {:.2f}'\n",
    "     .format(svm.score(X_test, y_test)))"
   ]
  },
  {
   "cell_type": "code",
   "execution_count": 97,
   "metadata": {},
   "outputs": [
    {
     "name": "stdout",
     "output_type": "stream",
     "text": [
      "Accuracy of K-NN classifier on training set: 1.00\n",
      "Accuracy of K-NN classifier on test set: 1.00\n"
     ]
    },
    {
     "name": "stderr",
     "output_type": "stream",
     "text": [
      "C:\\Users\\Mohamed\\Anaconda3\\lib\\site-packages\\ipykernel_launcher.py:5: DataConversionWarning: A column-vector y was passed when a 1d array was expected. Please change the shape of y to (n_samples, ), for example using ravel().\n",
      "  \"\"\"\n"
     ]
    }
   ],
   "source": [
    "from sklearn.metrics import classification_report\n",
    "from sklearn.metrics import confusion_matrix\n",
    "from sklearn.neighbors import KNeighborsClassifier\n",
    "knn = KNeighborsClassifier()\n",
    "knn.fit(X_train, y_train)\n",
    "print('Accuracy of K-NN classifier on training set: {:.2f}'\n",
    "     .format(knn.score(X_train, y_train)))\n",
    "print('Accuracy of K-NN classifier on test set: {:.2f}'\n",
    "     .format(knn.score(X_test, y_test)))"
   ]
  },
  {
   "cell_type": "code",
   "execution_count": 98,
   "metadata": {},
   "outputs": [
    {
     "name": "stdout",
     "output_type": "stream",
     "text": [
      "[[20  0]\n",
      " [ 0 20]]\n",
      "              precision    recall  f1-score   support\n",
      "\n",
      "         0.0       1.00      1.00      1.00        20\n",
      "         1.0       1.00      1.00      1.00        20\n",
      "\n",
      "    accuracy                           1.00        40\n",
      "   macro avg       1.00      1.00      1.00        40\n",
      "weighted avg       1.00      1.00      1.00        40\n",
      "\n"
     ]
    }
   ],
   "source": [
    "\n",
    "pred = knn.predict(X_test)\n",
    "print(confusion_matrix(y_test, pred))\n",
    "print(classification_report(y_test, pred))"
   ]
  },
  {
   "cell_type": "code",
   "execution_count": 99,
   "metadata": {},
   "outputs": [
    {
     "name": "stderr",
     "output_type": "stream",
     "text": [
      "C:\\Users\\Mohamed\\Anaconda3\\lib\\site-packages\\ipykernel_launcher.py:6: DataConversionWarning: A column-vector y was passed when a 1d array was expected. Please change the shape of y to (n_samples, ), for example using ravel().\n",
      "  \n",
      "C:\\Users\\Mohamed\\Anaconda3\\lib\\site-packages\\ipykernel_launcher.py:6: DataConversionWarning: A column-vector y was passed when a 1d array was expected. Please change the shape of y to (n_samples, ), for example using ravel().\n",
      "  \n",
      "C:\\Users\\Mohamed\\Anaconda3\\lib\\site-packages\\ipykernel_launcher.py:6: DataConversionWarning: A column-vector y was passed when a 1d array was expected. Please change the shape of y to (n_samples, ), for example using ravel().\n",
      "  \n",
      "C:\\Users\\Mohamed\\Anaconda3\\lib\\site-packages\\ipykernel_launcher.py:6: DataConversionWarning: A column-vector y was passed when a 1d array was expected. Please change the shape of y to (n_samples, ), for example using ravel().\n",
      "  \n",
      "C:\\Users\\Mohamed\\Anaconda3\\lib\\site-packages\\ipykernel_launcher.py:6: DataConversionWarning: A column-vector y was passed when a 1d array was expected. Please change the shape of y to (n_samples, ), for example using ravel().\n",
      "  \n",
      "C:\\Users\\Mohamed\\Anaconda3\\lib\\site-packages\\ipykernel_launcher.py:6: DataConversionWarning: A column-vector y was passed when a 1d array was expected. Please change the shape of y to (n_samples, ), for example using ravel().\n",
      "  \n",
      "C:\\Users\\Mohamed\\Anaconda3\\lib\\site-packages\\ipykernel_launcher.py:6: DataConversionWarning: A column-vector y was passed when a 1d array was expected. Please change the shape of y to (n_samples, ), for example using ravel().\n",
      "  \n",
      "C:\\Users\\Mohamed\\Anaconda3\\lib\\site-packages\\ipykernel_launcher.py:6: DataConversionWarning: A column-vector y was passed when a 1d array was expected. Please change the shape of y to (n_samples, ), for example using ravel().\n",
      "  \n",
      "C:\\Users\\Mohamed\\Anaconda3\\lib\\site-packages\\ipykernel_launcher.py:6: DataConversionWarning: A column-vector y was passed when a 1d array was expected. Please change the shape of y to (n_samples, ), for example using ravel().\n",
      "  \n",
      "C:\\Users\\Mohamed\\Anaconda3\\lib\\site-packages\\ipykernel_launcher.py:6: DataConversionWarning: A column-vector y was passed when a 1d array was expected. Please change the shape of y to (n_samples, ), for example using ravel().\n",
      "  \n",
      "C:\\Users\\Mohamed\\Anaconda3\\lib\\site-packages\\ipykernel_launcher.py:6: DataConversionWarning: A column-vector y was passed when a 1d array was expected. Please change the shape of y to (n_samples, ), for example using ravel().\n",
      "  \n",
      "C:\\Users\\Mohamed\\Anaconda3\\lib\\site-packages\\ipykernel_launcher.py:6: DataConversionWarning: A column-vector y was passed when a 1d array was expected. Please change the shape of y to (n_samples, ), for example using ravel().\n",
      "  \n",
      "C:\\Users\\Mohamed\\Anaconda3\\lib\\site-packages\\ipykernel_launcher.py:6: DataConversionWarning: A column-vector y was passed when a 1d array was expected. Please change the shape of y to (n_samples, ), for example using ravel().\n",
      "  \n",
      "C:\\Users\\Mohamed\\Anaconda3\\lib\\site-packages\\ipykernel_launcher.py:6: DataConversionWarning: A column-vector y was passed when a 1d array was expected. Please change the shape of y to (n_samples, ), for example using ravel().\n",
      "  \n",
      "C:\\Users\\Mohamed\\Anaconda3\\lib\\site-packages\\ipykernel_launcher.py:6: DataConversionWarning: A column-vector y was passed when a 1d array was expected. Please change the shape of y to (n_samples, ), for example using ravel().\n",
      "  \n",
      "C:\\Users\\Mohamed\\Anaconda3\\lib\\site-packages\\ipykernel_launcher.py:6: DataConversionWarning: A column-vector y was passed when a 1d array was expected. Please change the shape of y to (n_samples, ), for example using ravel().\n",
      "  \n",
      "C:\\Users\\Mohamed\\Anaconda3\\lib\\site-packages\\ipykernel_launcher.py:6: DataConversionWarning: A column-vector y was passed when a 1d array was expected. Please change the shape of y to (n_samples, ), for example using ravel().\n",
      "  \n",
      "C:\\Users\\Mohamed\\Anaconda3\\lib\\site-packages\\ipykernel_launcher.py:6: DataConversionWarning: A column-vector y was passed when a 1d array was expected. Please change the shape of y to (n_samples, ), for example using ravel().\n",
      "  \n",
      "C:\\Users\\Mohamed\\Anaconda3\\lib\\site-packages\\ipykernel_launcher.py:6: DataConversionWarning: A column-vector y was passed when a 1d array was expected. Please change the shape of y to (n_samples, ), for example using ravel().\n",
      "  \n"
     ]
    },
    {
     "data": {
      "text/plain": [
       "([<matplotlib.axis.XTick at 0x2505159e438>,\n",
       "  <matplotlib.axis.XTick at 0x2505159ecf8>,\n",
       "  <matplotlib.axis.XTick at 0x250515a1e10>,\n",
       "  <matplotlib.axis.XTick at 0x250515cbc88>,\n",
       "  <matplotlib.axis.XTick at 0x250515d6198>],\n",
       " <a list of 5 Text xticklabel objects>)"
      ]
     },
     "execution_count": 99,
     "metadata": {},
     "output_type": "execute_result"
    },
    {
     "data": {
      "image/png": "[encoded data removed]",
      "text/plain": [
       "<Figure size 432x288 with 1 Axes>"
      ]
     },
     "metadata": {
      "needs_background": "light"
     },
     "output_type": "display_data"
    }
   ],
   "source": [
    "\n",
    "k_range = range(1, 20)\n",
    "scores = []\n",
    "\n",
    "for k in k_range:\n",
    "    knn = KNeighborsClassifier(n_neighbors = k)\n",
    "    knn.fit(X_train, y_train)\n",
    "    scores.append(knn.score(X_test, y_test))\n",
    "plt.figure()\n",
    "plt.xlabel('k')\n",
    "plt.ylabel('accuracy')\n",
    "plt.scatter(k_range, scores)\n",
    "plt.xticks([0,5,10,15,20])"
   ]
  },
  {
   "cell_type": "code",
   "execution_count": 100,
   "metadata": {},
   "outputs": [
    {
     "data": {
      "text/plain": [
       "1.0"
      ]
     },
     "execution_count": 100,
     "metadata": {},
     "output_type": "execute_result"
    }
   ],
   "source": [
    "knn.score(X_test, y_test)"
   ]
  },
  {
   "cell_type": "code",
   "execution_count": 83,
   "metadata": {},
   "outputs": [],
   "source": [
    "pred = knn.predict(X_test)"
   ]
  },
  {
   "cell_type": "code",
   "execution_count": 84,
   "metadata": {},
   "outputs": [
    {
     "name": "stdout",
     "output_type": "stream",
     "text": [
      "[1. 1. 1. 1. 1. 1. 1. 1. 1. 1. 1. 1. 1. 1. 1. 1. 1. 1. 1. 1. 1. 1. 1. 1.\n",
      " 1. 1. 1. 1. 1. 1. 1. 1. 1. 1. 1. 1. 1. 1. 1. 1.]\n"
     ]
    }
   ],
   "source": [
    "print(pred)"
   ]
  },
  {
   "cell_type": "code",
   "execution_count": null,
   "metadata": {},
   "outputs": [],
   "source": []
  },
  {
   "cell_type": "code",
   "execution_count": null,
   "metadata": {},
   "outputs": [],
   "source": []
  }
 ],
 "metadata": {
  "kernelspec": {
   "display_name": "Python 3",
   "language": "python",
   "name": "python3"
  },
  "language_info": {
   "codemirror_mode": {
    "name": "ipython",
    "version": 3
   },
   "file_extension": ".py",
   "mimetype": "text/x-python",
   "name": "python",
   "nbconvert_exporter": "python",
   "pygments_lexer": "ipython3",
   "version": "3.7.3"
  }
 },
 "nbformat": 4,
 "nbformat_minor": 2
}
